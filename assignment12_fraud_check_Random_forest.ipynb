{
 "cells": [
  {
   "cell_type": "code",
   "execution_count": 1,
   "id": "a3dc1e3e",
   "metadata": {},
   "outputs": [],
   "source": [
    "import pandas as pd\n",
    "import numpy as np\n",
    "import matplotlib.pyplot as plt\n",
    "import seaborn as sns"
   ]
  },
  {
   "cell_type": "markdown",
   "id": "1a791920",
   "metadata": {},
   "source": [
    "## Loading the dataset"
   ]
  },
  {
   "cell_type": "code",
   "execution_count": 2,
   "id": "2ab0a3e7",
   "metadata": {
    "scrolled": true
   },
   "outputs": [
    {
     "data": {
      "text/html": [
       "<div>\n",
       "<style scoped>\n",
       "    .dataframe tbody tr th:only-of-type {\n",
       "        vertical-align: middle;\n",
       "    }\n",
       "\n",
       "    .dataframe tbody tr th {\n",
       "        vertical-align: top;\n",
       "    }\n",
       "\n",
       "    .dataframe thead th {\n",
       "        text-align: right;\n",
       "    }\n",
       "</style>\n",
       "<table border=\"1\" class=\"dataframe\">\n",
       "  <thead>\n",
       "    <tr style=\"text-align: right;\">\n",
       "      <th></th>\n",
       "      <th>Undergrad</th>\n",
       "      <th>Marital.Status</th>\n",
       "      <th>Taxable.Income</th>\n",
       "      <th>City.Population</th>\n",
       "      <th>Work.Experience</th>\n",
       "      <th>Urban</th>\n",
       "    </tr>\n",
       "  </thead>\n",
       "  <tbody>\n",
       "    <tr>\n",
       "      <th>0</th>\n",
       "      <td>NO</td>\n",
       "      <td>Single</td>\n",
       "      <td>68833</td>\n",
       "      <td>50047</td>\n",
       "      <td>10</td>\n",
       "      <td>YES</td>\n",
       "    </tr>\n",
       "    <tr>\n",
       "      <th>1</th>\n",
       "      <td>YES</td>\n",
       "      <td>Divorced</td>\n",
       "      <td>33700</td>\n",
       "      <td>134075</td>\n",
       "      <td>18</td>\n",
       "      <td>YES</td>\n",
       "    </tr>\n",
       "    <tr>\n",
       "      <th>2</th>\n",
       "      <td>NO</td>\n",
       "      <td>Married</td>\n",
       "      <td>36925</td>\n",
       "      <td>160205</td>\n",
       "      <td>30</td>\n",
       "      <td>YES</td>\n",
       "    </tr>\n",
       "    <tr>\n",
       "      <th>3</th>\n",
       "      <td>YES</td>\n",
       "      <td>Single</td>\n",
       "      <td>50190</td>\n",
       "      <td>193264</td>\n",
       "      <td>15</td>\n",
       "      <td>YES</td>\n",
       "    </tr>\n",
       "    <tr>\n",
       "      <th>4</th>\n",
       "      <td>NO</td>\n",
       "      <td>Married</td>\n",
       "      <td>81002</td>\n",
       "      <td>27533</td>\n",
       "      <td>28</td>\n",
       "      <td>NO</td>\n",
       "    </tr>\n",
       "  </tbody>\n",
       "</table>\n",
       "</div>"
      ],
      "text/plain": [
       "  Undergrad Marital.Status  Taxable.Income  City.Population  Work.Experience  \\\n",
       "0        NO         Single           68833            50047               10   \n",
       "1       YES       Divorced           33700           134075               18   \n",
       "2        NO        Married           36925           160205               30   \n",
       "3       YES         Single           50190           193264               15   \n",
       "4        NO        Married           81002            27533               28   \n",
       "\n",
       "  Urban  \n",
       "0   YES  \n",
       "1   YES  \n",
       "2   YES  \n",
       "3   YES  \n",
       "4    NO  "
      ]
     },
     "execution_count": 2,
     "metadata": {},
     "output_type": "execute_result"
    }
   ],
   "source": [
    "df=pd.read_csv(\"Fraud_check.csv\")\n",
    "df.head()"
   ]
  },
  {
   "cell_type": "code",
   "execution_count": 3,
   "id": "9cae1212",
   "metadata": {},
   "outputs": [
    {
     "data": {
      "text/plain": [
       "(600, 6)"
      ]
     },
     "execution_count": 3,
     "metadata": {},
     "output_type": "execute_result"
    }
   ],
   "source": [
    "df.shape"
   ]
  },
  {
   "cell_type": "code",
   "execution_count": 3,
   "id": "06a616aa",
   "metadata": {},
   "outputs": [
    {
     "data": {
      "text/plain": [
       "<seaborn.axisgrid.PairGrid at 0x23a345f0430>"
      ]
     },
     "execution_count": 3,
     "metadata": {},
     "output_type": "execute_result"
    },
    {
     "data": {
      "image/png": "[encoded data removed]",
      "text/plain": [
       "<Figure size 540x540 with 12 Axes>"
      ]
     },
     "metadata": {
      "needs_background": "light"
     },
     "output_type": "display_data"
    }
   ],
   "source": [
    "sns.pairplot(df[df[\"Taxable.Income\"]<=30000])#Risky taxable income"
   ]
  },
  {
   "cell_type": "code",
   "execution_count": 4,
   "id": "e004bf4e",
   "metadata": {},
   "outputs": [
    {
     "data": {
      "text/plain": [
       "<seaborn.axisgrid.PairGrid at 0x23a3a429700>"
      ]
     },
     "execution_count": 4,
     "metadata": {},
     "output_type": "execute_result"
    },
    {
     "data": {
      "image/png": "[encoded data removed]",
      "text/plain": [
       "<Figure size 540x540 with 12 Axes>"
      ]
     },
     "metadata": {
      "needs_background": "light"
     },
     "output_type": "display_data"
    }
   ],
   "source": [
    "sns.pairplot(df[df[\"Taxable.Income\"]>30000])#Good Taxable incomme"
   ]
  },
  {
   "cell_type": "code",
   "execution_count": 4,
   "id": "f81454cf",
   "metadata": {},
   "outputs": [],
   "source": [
    "def funcx(x):\n",
    "    if x<=30000:\n",
    "        return 'Risky'\n",
    "    return \"Good\"\n",
    "df[\"Taxable.Income\"]=df[\"Taxable.Income\"].apply(funcx)"
   ]
  },
  {
   "cell_type": "code",
   "execution_count": 5,
   "id": "70e75df4",
   "metadata": {
    "scrolled": false
   },
   "outputs": [
    {
     "data": {
      "text/html": [
       "<div>\n",
       "<style scoped>\n",
       "    .dataframe tbody tr th:only-of-type {\n",
       "        vertical-align: middle;\n",
       "    }\n",
       "\n",
       "    .dataframe tbody tr th {\n",
       "        vertical-align: top;\n",
       "    }\n",
       "\n",
       "    .dataframe thead th {\n",
       "        text-align: right;\n",
       "    }\n",
       "</style>\n",
       "<table border=\"1\" class=\"dataframe\">\n",
       "  <thead>\n",
       "    <tr style=\"text-align: right;\">\n",
       "      <th></th>\n",
       "      <th>Undergrad</th>\n",
       "      <th>Marital.Status</th>\n",
       "      <th>Taxable.Income</th>\n",
       "      <th>City.Population</th>\n",
       "      <th>Work.Experience</th>\n",
       "      <th>Urban</th>\n",
       "    </tr>\n",
       "  </thead>\n",
       "  <tbody>\n",
       "    <tr>\n",
       "      <th>0</th>\n",
       "      <td>NO</td>\n",
       "      <td>Single</td>\n",
       "      <td>Good</td>\n",
       "      <td>50047</td>\n",
       "      <td>10</td>\n",
       "      <td>YES</td>\n",
       "    </tr>\n",
       "    <tr>\n",
       "      <th>1</th>\n",
       "      <td>YES</td>\n",
       "      <td>Divorced</td>\n",
       "      <td>Good</td>\n",
       "      <td>134075</td>\n",
       "      <td>18</td>\n",
       "      <td>YES</td>\n",
       "    </tr>\n",
       "    <tr>\n",
       "      <th>2</th>\n",
       "      <td>NO</td>\n",
       "      <td>Married</td>\n",
       "      <td>Good</td>\n",
       "      <td>160205</td>\n",
       "      <td>30</td>\n",
       "      <td>YES</td>\n",
       "    </tr>\n",
       "    <tr>\n",
       "      <th>3</th>\n",
       "      <td>YES</td>\n",
       "      <td>Single</td>\n",
       "      <td>Good</td>\n",
       "      <td>193264</td>\n",
       "      <td>15</td>\n",
       "      <td>YES</td>\n",
       "    </tr>\n",
       "    <tr>\n",
       "      <th>4</th>\n",
       "      <td>NO</td>\n",
       "      <td>Married</td>\n",
       "      <td>Good</td>\n",
       "      <td>27533</td>\n",
       "      <td>28</td>\n",
       "      <td>NO</td>\n",
       "    </tr>\n",
       "  </tbody>\n",
       "</table>\n",
       "</div>"
      ],
      "text/plain": [
       "  Undergrad Marital.Status Taxable.Income  City.Population  Work.Experience  \\\n",
       "0        NO         Single           Good            50047               10   \n",
       "1       YES       Divorced           Good           134075               18   \n",
       "2        NO        Married           Good           160205               30   \n",
       "3       YES         Single           Good           193264               15   \n",
       "4        NO        Married           Good            27533               28   \n",
       "\n",
       "  Urban  \n",
       "0   YES  \n",
       "1   YES  \n",
       "2   YES  \n",
       "3   YES  \n",
       "4    NO  "
      ]
     },
     "execution_count": 5,
     "metadata": {},
     "output_type": "execute_result"
    }
   ],
   "source": [
    "df.head()"
   ]
  },
  {
   "cell_type": "code",
   "execution_count": 6,
   "id": "82b05765",
   "metadata": {},
   "outputs": [
    {
     "data": {
      "text/plain": [
       "Index(['Undergrad', 'Marital.Status', 'Taxable.Income', 'City.Population',\n",
       "       'Work.Experience', 'Urban'],\n",
       "      dtype='object')"
      ]
     },
     "execution_count": 6,
     "metadata": {},
     "output_type": "execute_result"
    }
   ],
   "source": [
    "df.columns"
   ]
  },
  {
   "cell_type": "code",
   "execution_count": 7,
   "id": "e0e9a24e",
   "metadata": {},
   "outputs": [
    {
     "name": "stdout",
     "output_type": "stream",
     "text": [
      "YES    312\n",
      "NO     288\n",
      "Name: Undergrad, dtype: int64\n",
      "Single      217\n",
      "Married     194\n",
      "Divorced    189\n",
      "Name: Marital.Status, dtype: int64\n",
      "Good     476\n",
      "Risky    124\n",
      "Name: Taxable.Income, dtype: int64\n",
      "YES    302\n",
      "NO     298\n",
      "Name: Urban, dtype: int64\n"
     ]
    }
   ],
   "source": [
    "col=['Undergrad', 'Marital.Status',\"Taxable.Income\",'Urban']\n",
    "for i in col:\n",
    "    print(df[i].value_counts())\n"
   ]
  },
  {
   "cell_type": "code",
   "execution_count": 8,
   "id": "10ad2dde",
   "metadata": {},
   "outputs": [
    {
     "data": {
      "image/png": "[encoded data removed]",
      "text/plain": [
       "<Figure size 864x720 with 2 Axes>"
      ]
     },
     "metadata": {},
     "output_type": "display_data"
    },
    {
     "data": {
      "image/png": "[encoded data removed]",
      "text/plain": [
       "<Figure size 864x720 with 2 Axes>"
      ]
     },
     "metadata": {
      "needs_background": "light"
     },
     "output_type": "display_data"
    }
   ],
   "source": [
    "plt.figure(figsize=(12,10))\n",
    "plt.subplot(2,2,1)\n",
    "plt.pie(df[\"Taxable.Income\"].value_counts(),labels=[\"Good\",\"Risky\"])\n",
    "plt.subplot(2,2,2)\n",
    "plt.pie(df[\"Marital.Status\"].value_counts(),labels=[\"Single\",\"Married\",\"Divorced\"])\n",
    "plt.show()\n",
    "plt.figure(figsize=(12,10))\n",
    "plt.subplot(2,2,1)\n",
    "sns.histplot(df[\"Undergrad\"])\n",
    "plt.xlabel(\"Undergrad\")\n",
    "plt.subplot(2,2,2)\n",
    "plt.pie(df[\"Urban\"].value_counts(),labels=[\"Yes\",\"No\"])\n",
    "plt.title(\"Urban\")\n",
    "plt.show()\n",
    "\n"
   ]
  },
  {
   "cell_type": "code",
   "execution_count": 9,
   "id": "bd97abaf",
   "metadata": {},
   "outputs": [
    {
     "data": {
      "text/html": [
       "<div>\n",
       "<style scoped>\n",
       "    .dataframe tbody tr th:only-of-type {\n",
       "        vertical-align: middle;\n",
       "    }\n",
       "\n",
       "    .dataframe tbody tr th {\n",
       "        vertical-align: top;\n",
       "    }\n",
       "\n",
       "    .dataframe thead th {\n",
       "        text-align: right;\n",
       "    }\n",
       "</style>\n",
       "<table border=\"1\" class=\"dataframe\">\n",
       "  <thead>\n",
       "    <tr style=\"text-align: right;\">\n",
       "      <th></th>\n",
       "      <th>Undergrad</th>\n",
       "      <th>Marital.Status</th>\n",
       "      <th>Taxable.Income</th>\n",
       "      <th>City.Population</th>\n",
       "      <th>Work.Experience</th>\n",
       "      <th>Urban</th>\n",
       "    </tr>\n",
       "  </thead>\n",
       "  <tbody>\n",
       "    <tr>\n",
       "      <th>0</th>\n",
       "      <td>NO</td>\n",
       "      <td>Single</td>\n",
       "      <td>Good</td>\n",
       "      <td>50047</td>\n",
       "      <td>10</td>\n",
       "      <td>YES</td>\n",
       "    </tr>\n",
       "    <tr>\n",
       "      <th>1</th>\n",
       "      <td>YES</td>\n",
       "      <td>Divorced</td>\n",
       "      <td>Good</td>\n",
       "      <td>134075</td>\n",
       "      <td>18</td>\n",
       "      <td>YES</td>\n",
       "    </tr>\n",
       "    <tr>\n",
       "      <th>2</th>\n",
       "      <td>NO</td>\n",
       "      <td>Married</td>\n",
       "      <td>Good</td>\n",
       "      <td>160205</td>\n",
       "      <td>30</td>\n",
       "      <td>YES</td>\n",
       "    </tr>\n",
       "    <tr>\n",
       "      <th>3</th>\n",
       "      <td>YES</td>\n",
       "      <td>Single</td>\n",
       "      <td>Good</td>\n",
       "      <td>193264</td>\n",
       "      <td>15</td>\n",
       "      <td>YES</td>\n",
       "    </tr>\n",
       "    <tr>\n",
       "      <th>4</th>\n",
       "      <td>NO</td>\n",
       "      <td>Married</td>\n",
       "      <td>Good</td>\n",
       "      <td>27533</td>\n",
       "      <td>28</td>\n",
       "      <td>NO</td>\n",
       "    </tr>\n",
       "  </tbody>\n",
       "</table>\n",
       "</div>"
      ],
      "text/plain": [
       "  Undergrad Marital.Status Taxable.Income  City.Population  Work.Experience  \\\n",
       "0        NO         Single           Good            50047               10   \n",
       "1       YES       Divorced           Good           134075               18   \n",
       "2        NO        Married           Good           160205               30   \n",
       "3       YES         Single           Good           193264               15   \n",
       "4        NO        Married           Good            27533               28   \n",
       "\n",
       "  Urban  \n",
       "0   YES  \n",
       "1   YES  \n",
       "2   YES  \n",
       "3   YES  \n",
       "4    NO  "
      ]
     },
     "execution_count": 9,
     "metadata": {},
     "output_type": "execute_result"
    }
   ],
   "source": [
    "\n",
    "df.head()"
   ]
  },
  {
   "cell_type": "markdown",
   "id": "6d479ac9",
   "metadata": {},
   "source": [
    "### Checking the missing value"
   ]
  },
  {
   "cell_type": "code",
   "execution_count": 11,
   "id": "69c3e225",
   "metadata": {},
   "outputs": [
    {
     "data": {
      "text/plain": [
       "<AxesSubplot:>"
      ]
     },
     "execution_count": 11,
     "metadata": {},
     "output_type": "execute_result"
    },
    {
     "data": {
      "image/png": "[encoded data removed]",
      "text/plain": [
       "<Figure size 432x288 with 2 Axes>"
      ]
     },
     "metadata": {
      "needs_background": "light"
     },
     "output_type": "display_data"
    }
   ],
   "source": [
    "sns.heatmap(df.isnull(),cmap=\"viridis\")#No any missing values"
   ]
  },
  {
   "cell_type": "code",
   "execution_count": 12,
   "id": "71e09963",
   "metadata": {},
   "outputs": [
    {
     "name": "stdout",
     "output_type": "stream",
     "text": [
      "<class 'pandas.core.frame.DataFrame'>\n",
      "RangeIndex: 600 entries, 0 to 599\n",
      "Data columns (total 6 columns):\n",
      " #   Column           Non-Null Count  Dtype \n",
      "---  ------           --------------  ----- \n",
      " 0   Undergrad        600 non-null    object\n",
      " 1   Marital.Status   600 non-null    object\n",
      " 2   Taxable.Income   600 non-null    object\n",
      " 3   City.Population  600 non-null    int64 \n",
      " 4   Work.Experience  600 non-null    int64 \n",
      " 5   Urban            600 non-null    object\n",
      "dtypes: int64(2), object(4)\n",
      "memory usage: 28.2+ KB\n"
     ]
    }
   ],
   "source": [
    "df.info()"
   ]
  },
  {
   "cell_type": "markdown",
   "id": "9b55ad24",
   "metadata": {},
   "source": [
    "### Changing categorical to numeric "
   ]
  },
  {
   "cell_type": "code",
   "execution_count": 10,
   "id": "80882d24",
   "metadata": {},
   "outputs": [
    {
     "data": {
      "text/html": [
       "<div>\n",
       "<style scoped>\n",
       "    .dataframe tbody tr th:only-of-type {\n",
       "        vertical-align: middle;\n",
       "    }\n",
       "\n",
       "    .dataframe tbody tr th {\n",
       "        vertical-align: top;\n",
       "    }\n",
       "\n",
       "    .dataframe thead th {\n",
       "        text-align: right;\n",
       "    }\n",
       "</style>\n",
       "<table border=\"1\" class=\"dataframe\">\n",
       "  <thead>\n",
       "    <tr style=\"text-align: right;\">\n",
       "      <th></th>\n",
       "      <th>Divorced</th>\n",
       "      <th>Married</th>\n",
       "      <th>Single</th>\n",
       "    </tr>\n",
       "  </thead>\n",
       "  <tbody>\n",
       "    <tr>\n",
       "      <th>0</th>\n",
       "      <td>0</td>\n",
       "      <td>0</td>\n",
       "      <td>1</td>\n",
       "    </tr>\n",
       "    <tr>\n",
       "      <th>1</th>\n",
       "      <td>1</td>\n",
       "      <td>0</td>\n",
       "      <td>0</td>\n",
       "    </tr>\n",
       "    <tr>\n",
       "      <th>2</th>\n",
       "      <td>0</td>\n",
       "      <td>1</td>\n",
       "      <td>0</td>\n",
       "    </tr>\n",
       "    <tr>\n",
       "      <th>3</th>\n",
       "      <td>0</td>\n",
       "      <td>0</td>\n",
       "      <td>1</td>\n",
       "    </tr>\n",
       "    <tr>\n",
       "      <th>4</th>\n",
       "      <td>0</td>\n",
       "      <td>1</td>\n",
       "      <td>0</td>\n",
       "    </tr>\n",
       "  </tbody>\n",
       "</table>\n",
       "</div>"
      ],
      "text/plain": [
       "   Divorced  Married  Single\n",
       "0         0        0       1\n",
       "1         1        0       0\n",
       "2         0        1       0\n",
       "3         0        0       1\n",
       "4         0        1       0"
      ]
     },
     "execution_count": 10,
     "metadata": {},
     "output_type": "execute_result"
    }
   ],
   "source": [
    "df1=pd.get_dummies(df[\"Marital.Status\"])\n",
    "df1.head()"
   ]
  },
  {
   "cell_type": "code",
   "execution_count": 11,
   "id": "f46a9225",
   "metadata": {},
   "outputs": [
    {
     "data": {
      "text/html": [
       "<div>\n",
       "<style scoped>\n",
       "    .dataframe tbody tr th:only-of-type {\n",
       "        vertical-align: middle;\n",
       "    }\n",
       "\n",
       "    .dataframe tbody tr th {\n",
       "        vertical-align: top;\n",
       "    }\n",
       "\n",
       "    .dataframe thead th {\n",
       "        text-align: right;\n",
       "    }\n",
       "</style>\n",
       "<table border=\"1\" class=\"dataframe\">\n",
       "  <thead>\n",
       "    <tr style=\"text-align: right;\">\n",
       "      <th></th>\n",
       "      <th>Undergrad</th>\n",
       "      <th>Marital.Status</th>\n",
       "      <th>Taxable.Income</th>\n",
       "      <th>City.Population</th>\n",
       "      <th>Work.Experience</th>\n",
       "      <th>Urban</th>\n",
       "      <th>Divorced</th>\n",
       "      <th>Married</th>\n",
       "      <th>Single</th>\n",
       "    </tr>\n",
       "  </thead>\n",
       "  <tbody>\n",
       "    <tr>\n",
       "      <th>0</th>\n",
       "      <td>NO</td>\n",
       "      <td>Single</td>\n",
       "      <td>Good</td>\n",
       "      <td>50047</td>\n",
       "      <td>10</td>\n",
       "      <td>YES</td>\n",
       "      <td>0</td>\n",
       "      <td>0</td>\n",
       "      <td>1</td>\n",
       "    </tr>\n",
       "    <tr>\n",
       "      <th>1</th>\n",
       "      <td>YES</td>\n",
       "      <td>Divorced</td>\n",
       "      <td>Good</td>\n",
       "      <td>134075</td>\n",
       "      <td>18</td>\n",
       "      <td>YES</td>\n",
       "      <td>1</td>\n",
       "      <td>0</td>\n",
       "      <td>0</td>\n",
       "    </tr>\n",
       "    <tr>\n",
       "      <th>2</th>\n",
       "      <td>NO</td>\n",
       "      <td>Married</td>\n",
       "      <td>Good</td>\n",
       "      <td>160205</td>\n",
       "      <td>30</td>\n",
       "      <td>YES</td>\n",
       "      <td>0</td>\n",
       "      <td>1</td>\n",
       "      <td>0</td>\n",
       "    </tr>\n",
       "    <tr>\n",
       "      <th>3</th>\n",
       "      <td>YES</td>\n",
       "      <td>Single</td>\n",
       "      <td>Good</td>\n",
       "      <td>193264</td>\n",
       "      <td>15</td>\n",
       "      <td>YES</td>\n",
       "      <td>0</td>\n",
       "      <td>0</td>\n",
       "      <td>1</td>\n",
       "    </tr>\n",
       "    <tr>\n",
       "      <th>4</th>\n",
       "      <td>NO</td>\n",
       "      <td>Married</td>\n",
       "      <td>Good</td>\n",
       "      <td>27533</td>\n",
       "      <td>28</td>\n",
       "      <td>NO</td>\n",
       "      <td>0</td>\n",
       "      <td>1</td>\n",
       "      <td>0</td>\n",
       "    </tr>\n",
       "  </tbody>\n",
       "</table>\n",
       "</div>"
      ],
      "text/plain": [
       "  Undergrad Marital.Status Taxable.Income  City.Population  Work.Experience  \\\n",
       "0        NO         Single           Good            50047               10   \n",
       "1       YES       Divorced           Good           134075               18   \n",
       "2        NO        Married           Good           160205               30   \n",
       "3       YES         Single           Good           193264               15   \n",
       "4        NO        Married           Good            27533               28   \n",
       "\n",
       "  Urban  Divorced  Married  Single  \n",
       "0   YES         0        0       1  \n",
       "1   YES         1        0       0  \n",
       "2   YES         0        1       0  \n",
       "3   YES         0        0       1  \n",
       "4    NO         0        1       0  "
      ]
     },
     "execution_count": 11,
     "metadata": {},
     "output_type": "execute_result"
    }
   ],
   "source": [
    "df=pd.concat([df,df1],axis=1)\n",
    "df.head()"
   ]
  },
  {
   "cell_type": "code",
   "execution_count": 12,
   "id": "56aee714",
   "metadata": {},
   "outputs": [],
   "source": [
    "df_new=df.drop(\"Marital.Status\",axis=1)"
   ]
  },
  {
   "cell_type": "code",
   "execution_count": 13,
   "id": "c8e4466f",
   "metadata": {
    "scrolled": true
   },
   "outputs": [
    {
     "data": {
      "text/html": [
       "<div>\n",
       "<style scoped>\n",
       "    .dataframe tbody tr th:only-of-type {\n",
       "        vertical-align: middle;\n",
       "    }\n",
       "\n",
       "    .dataframe tbody tr th {\n",
       "        vertical-align: top;\n",
       "    }\n",
       "\n",
       "    .dataframe thead th {\n",
       "        text-align: right;\n",
       "    }\n",
       "</style>\n",
       "<table border=\"1\" class=\"dataframe\">\n",
       "  <thead>\n",
       "    <tr style=\"text-align: right;\">\n",
       "      <th></th>\n",
       "      <th>Undergrad</th>\n",
       "      <th>Taxable.Income</th>\n",
       "      <th>City.Population</th>\n",
       "      <th>Work.Experience</th>\n",
       "      <th>Urban</th>\n",
       "      <th>Divorced</th>\n",
       "      <th>Married</th>\n",
       "      <th>Single</th>\n",
       "    </tr>\n",
       "  </thead>\n",
       "  <tbody>\n",
       "    <tr>\n",
       "      <th>0</th>\n",
       "      <td>NO</td>\n",
       "      <td>Good</td>\n",
       "      <td>50047</td>\n",
       "      <td>10</td>\n",
       "      <td>YES</td>\n",
       "      <td>0</td>\n",
       "      <td>0</td>\n",
       "      <td>1</td>\n",
       "    </tr>\n",
       "    <tr>\n",
       "      <th>1</th>\n",
       "      <td>YES</td>\n",
       "      <td>Good</td>\n",
       "      <td>134075</td>\n",
       "      <td>18</td>\n",
       "      <td>YES</td>\n",
       "      <td>1</td>\n",
       "      <td>0</td>\n",
       "      <td>0</td>\n",
       "    </tr>\n",
       "    <tr>\n",
       "      <th>2</th>\n",
       "      <td>NO</td>\n",
       "      <td>Good</td>\n",
       "      <td>160205</td>\n",
       "      <td>30</td>\n",
       "      <td>YES</td>\n",
       "      <td>0</td>\n",
       "      <td>1</td>\n",
       "      <td>0</td>\n",
       "    </tr>\n",
       "    <tr>\n",
       "      <th>3</th>\n",
       "      <td>YES</td>\n",
       "      <td>Good</td>\n",
       "      <td>193264</td>\n",
       "      <td>15</td>\n",
       "      <td>YES</td>\n",
       "      <td>0</td>\n",
       "      <td>0</td>\n",
       "      <td>1</td>\n",
       "    </tr>\n",
       "    <tr>\n",
       "      <th>4</th>\n",
       "      <td>NO</td>\n",
       "      <td>Good</td>\n",
       "      <td>27533</td>\n",
       "      <td>28</td>\n",
       "      <td>NO</td>\n",
       "      <td>0</td>\n",
       "      <td>1</td>\n",
       "      <td>0</td>\n",
       "    </tr>\n",
       "  </tbody>\n",
       "</table>\n",
       "</div>"
      ],
      "text/plain": [
       "  Undergrad Taxable.Income  City.Population  Work.Experience Urban  Divorced  \\\n",
       "0        NO           Good            50047               10   YES         0   \n",
       "1       YES           Good           134075               18   YES         1   \n",
       "2        NO           Good           160205               30   YES         0   \n",
       "3       YES           Good           193264               15   YES         0   \n",
       "4        NO           Good            27533               28    NO         0   \n",
       "\n",
       "   Married  Single  \n",
       "0        0       1  \n",
       "1        0       0  \n",
       "2        1       0  \n",
       "3        0       1  \n",
       "4        1       0  "
      ]
     },
     "execution_count": 13,
     "metadata": {},
     "output_type": "execute_result"
    }
   ],
   "source": [
    "df_new.head()"
   ]
  },
  {
   "cell_type": "markdown",
   "id": "d3c72e68",
   "metadata": {},
   "source": [
    "## [YES=1, GOOD=1];        [NO=0, RISKY=0]"
   ]
  },
  {
   "cell_type": "code",
   "execution_count": 14,
   "id": "79e0a091",
   "metadata": {},
   "outputs": [],
   "source": [
    "def funx1(x1):\n",
    "    if(x1 == 'YES') or (x1 == 'Good'):\n",
    "        return 1\n",
    "    return 0\n",
    "no_col=[\"Undergrad\",\"Urban\",\"Taxable.Income\"]\n",
    "for i in no_col:\n",
    "    df_new[i] =df_new[i].apply(funx1)\n",
    "    \n"
   ]
  },
  {
   "cell_type": "code",
   "execution_count": 15,
   "id": "1c01910e",
   "metadata": {
    "scrolled": true
   },
   "outputs": [
    {
     "data": {
      "text/plain": [
       "Good     476\n",
       "Risky    124\n",
       "Name: Taxable.Income, dtype: int64"
      ]
     },
     "execution_count": 15,
     "metadata": {},
     "output_type": "execute_result"
    }
   ],
   "source": [
    "df[\"Taxable.Income\"].value_counts()"
   ]
  },
  {
   "cell_type": "code",
   "execution_count": 16,
   "id": "d1da5b4b",
   "metadata": {},
   "outputs": [
    {
     "data": {
      "text/plain": [
       "1    476\n",
       "0    124\n",
       "Name: Taxable.Income, dtype: int64"
      ]
     },
     "execution_count": 16,
     "metadata": {},
     "output_type": "execute_result"
    }
   ],
   "source": [
    "df_new['Taxable.Income'].value_counts()"
   ]
  },
  {
   "cell_type": "markdown",
   "id": "2a04beb1",
   "metadata": {},
   "source": [
    "### Defining Explainatory and response variable"
   ]
  },
  {
   "cell_type": "code",
   "execution_count": 17,
   "id": "6604d6ea",
   "metadata": {},
   "outputs": [],
   "source": [
    "x=df_new.drop(\"Taxable.Income\",axis=1)\n",
    "y=df_new[\"Taxable.Income\"]"
   ]
  },
  {
   "cell_type": "code",
   "execution_count": 18,
   "id": "49705930",
   "metadata": {},
   "outputs": [
    {
     "data": {
      "text/html": [
       "<div>\n",
       "<style scoped>\n",
       "    .dataframe tbody tr th:only-of-type {\n",
       "        vertical-align: middle;\n",
       "    }\n",
       "\n",
       "    .dataframe tbody tr th {\n",
       "        vertical-align: top;\n",
       "    }\n",
       "\n",
       "    .dataframe thead th {\n",
       "        text-align: right;\n",
       "    }\n",
       "</style>\n",
       "<table border=\"1\" class=\"dataframe\">\n",
       "  <thead>\n",
       "    <tr style=\"text-align: right;\">\n",
       "      <th></th>\n",
       "      <th>Undergrad</th>\n",
       "      <th>City.Population</th>\n",
       "      <th>Work.Experience</th>\n",
       "      <th>Urban</th>\n",
       "      <th>Divorced</th>\n",
       "      <th>Married</th>\n",
       "      <th>Single</th>\n",
       "    </tr>\n",
       "  </thead>\n",
       "  <tbody>\n",
       "    <tr>\n",
       "      <th>0</th>\n",
       "      <td>0</td>\n",
       "      <td>50047</td>\n",
       "      <td>10</td>\n",
       "      <td>1</td>\n",
       "      <td>0</td>\n",
       "      <td>0</td>\n",
       "      <td>1</td>\n",
       "    </tr>\n",
       "    <tr>\n",
       "      <th>1</th>\n",
       "      <td>1</td>\n",
       "      <td>134075</td>\n",
       "      <td>18</td>\n",
       "      <td>1</td>\n",
       "      <td>1</td>\n",
       "      <td>0</td>\n",
       "      <td>0</td>\n",
       "    </tr>\n",
       "    <tr>\n",
       "      <th>2</th>\n",
       "      <td>0</td>\n",
       "      <td>160205</td>\n",
       "      <td>30</td>\n",
       "      <td>1</td>\n",
       "      <td>0</td>\n",
       "      <td>1</td>\n",
       "      <td>0</td>\n",
       "    </tr>\n",
       "    <tr>\n",
       "      <th>3</th>\n",
       "      <td>1</td>\n",
       "      <td>193264</td>\n",
       "      <td>15</td>\n",
       "      <td>1</td>\n",
       "      <td>0</td>\n",
       "      <td>0</td>\n",
       "      <td>1</td>\n",
       "    </tr>\n",
       "    <tr>\n",
       "      <th>4</th>\n",
       "      <td>0</td>\n",
       "      <td>27533</td>\n",
       "      <td>28</td>\n",
       "      <td>0</td>\n",
       "      <td>0</td>\n",
       "      <td>1</td>\n",
       "      <td>0</td>\n",
       "    </tr>\n",
       "  </tbody>\n",
       "</table>\n",
       "</div>"
      ],
      "text/plain": [
       "   Undergrad  City.Population  Work.Experience  Urban  Divorced  Married  \\\n",
       "0          0            50047               10      1         0        0   \n",
       "1          1           134075               18      1         1        0   \n",
       "2          0           160205               30      1         0        1   \n",
       "3          1           193264               15      1         0        0   \n",
       "4          0            27533               28      0         0        1   \n",
       "\n",
       "   Single  \n",
       "0       1  \n",
       "1       0  \n",
       "2       0  \n",
       "3       1  \n",
       "4       0  "
      ]
     },
     "execution_count": 18,
     "metadata": {},
     "output_type": "execute_result"
    }
   ],
   "source": [
    "x.head()"
   ]
  },
  {
   "cell_type": "code",
   "execution_count": 19,
   "id": "7fcf663f",
   "metadata": {
    "scrolled": true
   },
   "outputs": [
    {
     "data": {
      "text/plain": [
       "0    1\n",
       "1    1\n",
       "2    1\n",
       "3    1\n",
       "4    1\n",
       "Name: Taxable.Income, dtype: int64"
      ]
     },
     "execution_count": 19,
     "metadata": {},
     "output_type": "execute_result"
    }
   ],
   "source": [
    "y.head()"
   ]
  },
  {
   "cell_type": "markdown",
   "id": "142b3d58",
   "metadata": {},
   "source": [
    "### Splitting the dataset into training and testing"
   ]
  },
  {
   "cell_type": "code",
   "execution_count": 20,
   "id": "dccd1c02",
   "metadata": {},
   "outputs": [],
   "source": [
    "from sklearn.model_selection import train_test_split\n"
   ]
  },
  {
   "cell_type": "code",
   "execution_count": 21,
   "id": "c546bc95",
   "metadata": {},
   "outputs": [],
   "source": [
    "x_train, x_test, y_train, y_test = train_test_split(x, y, test_size=0.2, random_state=0)"
   ]
  },
  {
   "cell_type": "code",
   "execution_count": 22,
   "id": "9f0e72d5",
   "metadata": {
    "scrolled": true
   },
   "outputs": [
    {
     "data": {
      "text/plain": [
       "(480, 7)"
      ]
     },
     "execution_count": 22,
     "metadata": {},
     "output_type": "execute_result"
    }
   ],
   "source": [
    "x_train.shape"
   ]
  },
  {
   "cell_type": "code",
   "execution_count": 23,
   "id": "55cc6181",
   "metadata": {},
   "outputs": [
    {
     "data": {
      "text/plain": [
       "(120, 7)"
      ]
     },
     "execution_count": 23,
     "metadata": {},
     "output_type": "execute_result"
    }
   ],
   "source": [
    "x_test.shape"
   ]
  },
  {
   "cell_type": "code",
   "execution_count": 24,
   "id": "8fa9d5c8",
   "metadata": {},
   "outputs": [
    {
     "data": {
      "text/plain": [
       "(480,)"
      ]
     },
     "execution_count": 24,
     "metadata": {},
     "output_type": "execute_result"
    }
   ],
   "source": [
    "y_train.shape"
   ]
  },
  {
   "cell_type": "code",
   "execution_count": 25,
   "id": "5acd83ad",
   "metadata": {},
   "outputs": [
    {
     "data": {
      "text/plain": [
       "(120,)"
      ]
     },
     "execution_count": 25,
     "metadata": {},
     "output_type": "execute_result"
    }
   ],
   "source": [
    "y_test.shape"
   ]
  },
  {
   "cell_type": "markdown",
   "id": "14db453b",
   "metadata": {},
   "source": [
    "## Model building"
   ]
  },
  {
   "cell_type": "code",
   "execution_count": 26,
   "id": "79f55c63",
   "metadata": {},
   "outputs": [],
   "source": [
    "from sklearn.ensemble import RandomForestClassifier"
   ]
  },
  {
   "cell_type": "code",
   "execution_count": 27,
   "id": "5f7a06b6",
   "metadata": {},
   "outputs": [
    {
     "data": {
      "text/plain": [
       "RandomForestClassifier()"
      ]
     },
     "execution_count": 27,
     "metadata": {},
     "output_type": "execute_result"
    }
   ],
   "source": [
    "model=RandomForestClassifier()#CRITERION BY DEFAULT GINI INDEX\n",
    "model.fit(x_train,y_train)"
   ]
  },
  {
   "cell_type": "code",
   "execution_count": 28,
   "id": "23ed8c67",
   "metadata": {},
   "outputs": [],
   "source": [
    "#Now predict the test set\n",
    "y_pred_rf_test=model.predict(x_test)\n",
    "#Predicting the train set\n",
    "y_pred_rf_train=model.predict(x_train)\n"
   ]
  },
  {
   "cell_type": "markdown",
   "id": "ff4788b4",
   "metadata": {},
   "source": [
    "### Accuracy score, confusion matrix, classification report"
   ]
  },
  {
   "cell_type": "code",
   "execution_count": 29,
   "id": "fb67205d",
   "metadata": {},
   "outputs": [],
   "source": [
    "from sklearn.metrics import accuracy_score, confusion_matrix, classification_report"
   ]
  },
  {
   "cell_type": "code",
   "execution_count": 32,
   "id": "6e8e5b4b",
   "metadata": {},
   "outputs": [
    {
     "name": "stdout",
     "output_type": "stream",
     "text": [
      "This is the accuracy of training dataset when applying Random forest is  0.7417\n"
     ]
    }
   ],
   "source": [
    "print(\"This is the accuracy of training dataset when applying Random forest is \", np.round(accuracy_score(y_test,y_pred_rf_test),decimals=4))#Testing accuracy\n"
   ]
  },
  {
   "cell_type": "code",
   "execution_count": 33,
   "id": "ed4e165b",
   "metadata": {},
   "outputs": [
    {
     "name": "stdout",
     "output_type": "stream",
     "text": [
      "This is the accuracy of testing dataset when applying Random Forest reg. is  1.0\n"
     ]
    }
   ],
   "source": [
    "print(\"This is the accuracy of testing dataset when applying Random Forest reg. is \", np.round(accuracy_score(y_train,y_pred_rf_train),decimals=4))#training accuracy\n"
   ]
  },
  {
   "cell_type": "code",
   "execution_count": 35,
   "id": "aedfa09b",
   "metadata": {},
   "outputs": [
    {
     "data": {
      "text/plain": [
       "array([[ 99,   0],\n",
       "       [  0, 381]], dtype=int64)"
      ]
     },
     "execution_count": 35,
     "metadata": {},
     "output_type": "execute_result"
    }
   ],
   "source": [
    "confusion_matrix(y_train,y_pred_rf_train)"
   ]
  },
  {
   "cell_type": "code",
   "execution_count": 36,
   "id": "a05468a5",
   "metadata": {
    "scrolled": true
   },
   "outputs": [
    {
     "name": "stdout",
     "output_type": "stream",
     "text": [
      "              precision    recall  f1-score   support\n",
      "\n",
      "           0       1.00      1.00      1.00        99\n",
      "           1       1.00      1.00      1.00       381\n",
      "\n",
      "    accuracy                           1.00       480\n",
      "   macro avg       1.00      1.00      1.00       480\n",
      "weighted avg       1.00      1.00      1.00       480\n",
      "\n"
     ]
    }
   ],
   "source": [
    "print(classification_report(y_train,y_pred_rf_train))"
   ]
  },
  {
   "cell_type": "markdown",
   "id": "ac92a200",
   "metadata": {},
   "source": [
    "## K-fold Testing"
   ]
  },
  {
   "cell_type": "code",
   "execution_count": 37,
   "id": "d9c0a2b4",
   "metadata": {},
   "outputs": [],
   "source": [
    "from sklearn.model_selection import KFold\n",
    "from sklearn.model_selection import cross_val_score"
   ]
  },
  {
   "cell_type": "code",
   "execution_count": 38,
   "id": "d1e1d2b1",
   "metadata": {},
   "outputs": [],
   "source": [
    "fold=KFold(n_splits=10,shuffle=False)\n",
    "model2=RandomForestClassifier()\n",
    "results=cross_val_score(model2,x,y,cv=fold)"
   ]
  },
  {
   "cell_type": "code",
   "execution_count": 39,
   "id": "a7a68b68",
   "metadata": {},
   "outputs": [
    {
     "data": {
      "text/plain": [
       "array([0.75      , 0.68333333, 0.66666667, 0.68333333, 0.75      ,\n",
       "       0.63333333, 0.85      , 0.68333333, 0.71666667, 0.81666667])"
      ]
     },
     "execution_count": 39,
     "metadata": {},
     "output_type": "execute_result"
    }
   ],
   "source": [
    "results"
   ]
  },
  {
   "cell_type": "code",
   "execution_count": 41,
   "id": "f3bed95f",
   "metadata": {},
   "outputs": [
    {
     "data": {
      "text/plain": [
       "0.7233333333333333"
      ]
     },
     "execution_count": 41,
     "metadata": {},
     "output_type": "execute_result"
    }
   ],
   "source": [
    "results.mean()"
   ]
  },
  {
   "cell_type": "code",
   "execution_count": null,
   "id": "ac46cbbf",
   "metadata": {},
   "outputs": [],
   "source": []
  },
  {
   "cell_type": "code",
   "execution_count": 43,
   "id": "d75e4585",
   "metadata": {},
   "outputs": [
    {
     "data": {
      "text/plain": [
       "0.004233333333333334"
      ]
     },
     "execution_count": 43,
     "metadata": {},
     "output_type": "execute_result"
    }
   ],
   "source": [
    "results.var()#Here we see that the variation is small"
   ]
  },
  {
   "cell_type": "markdown",
   "id": "477d954b",
   "metadata": {},
   "source": [
    "## Grid Search cv(Hyperparameter tuning)"
   ]
  },
  {
   "cell_type": "code",
   "execution_count": 44,
   "id": "6f5eaf19",
   "metadata": {},
   "outputs": [],
   "source": [
    "from sklearn.model_selection import GridSearchCV"
   ]
  },
  {
   "cell_type": "code",
   "execution_count": 45,
   "id": "a1b7a981",
   "metadata": {},
   "outputs": [],
   "source": [
    "para={\"n_estimators\":[100,150,200,250],\"criterion\":[\"gini\",\"entropy\"],\"max_depth\":[4,6,8,10]}\n",
    "model3=RandomForestClassifier()\n",
    "grid=GridSearchCV(estimator=model3,param_grid=para,cv=KFold(n_splits=10))\n",
    "result=grid.fit(x,y)"
   ]
  },
  {
   "cell_type": "markdown",
   "id": "cc01d1de",
   "metadata": {},
   "source": [
    "### Summarize the results"
   ]
  },
  {
   "cell_type": "code",
   "execution_count": 47,
   "id": "d34a29f8",
   "metadata": {},
   "outputs": [
    {
     "name": "stdout",
     "output_type": "stream",
     "text": [
      "Best : 0.7933333333333332, using {'criterion': 'gini', 'max_depth': 4, 'n_estimators': 100}\n"
     ]
    }
   ],
   "source": [
    "print(\"Best : {}, using {}\".format(result.best_score_,result.best_params_))"
   ]
  },
  {
   "cell_type": "code",
   "execution_count": 48,
   "id": "e00bd3e1",
   "metadata": {},
   "outputs": [
    {
     "data": {
      "text/plain": [
       "{'mean_fit_time': array([0.32486672, 0.47164147, 0.63248494, 0.8348381 , 0.41166244,\n",
       "        0.5686691 , 0.73625348, 0.91202857, 0.37631941, 0.56834323,\n",
       "        0.73787069, 0.96311316, 0.40661459, 0.55963113, 0.75188441,\n",
       "        0.94943104, 0.35043552, 0.53598409, 0.68825955, 0.81914957,\n",
       "        0.3509161 , 0.51854784, 0.69447188, 0.8689543 , 0.36427028,\n",
       "        0.54737275, 0.73700113, 0.95499988, 0.41396549, 0.5882937 ,\n",
       "        0.77717209, 1.00901659]),\n",
       " 'std_fit_time': array([0.01147508, 0.00359998, 0.00885923, 0.08064685, 0.02507089,\n",
       "        0.02795121, 0.04508859, 0.02891992, 0.02717311, 0.01753588,\n",
       "        0.04327958, 0.02611772, 0.04498089, 0.01075302, 0.02753516,\n",
       "        0.03913293, 0.02366701, 0.03180931, 0.06084998, 0.0381744 ,\n",
       "        0.00597702, 0.00583273, 0.01304377, 0.01525173, 0.00378314,\n",
       "        0.00802564, 0.02062391, 0.01307945, 0.02238376, 0.01550148,\n",
       "        0.01500793, 0.04013017]),\n",
       " 'mean_score_time': array([0.0274739 , 0.04020331, 0.05053525, 0.06875787, 0.03437984,\n",
       "        0.04862423, 0.05713954, 0.06987481, 0.02918286, 0.0447011 ,\n",
       "        0.05757146, 0.07254581, 0.02979491, 0.04445965, 0.05713339,\n",
       "        0.06836112, 0.03190811, 0.04193406, 0.05764687, 0.06456678,\n",
       "        0.02906165, 0.04114058, 0.05132794, 0.06584003, 0.03196712,\n",
       "        0.04090815, 0.05493565, 0.06847641, 0.03226397, 0.04383812,\n",
       "        0.05763607, 0.07053938]),\n",
       " 'std_score_time': array([0.00416954, 0.00029957, 0.00357118, 0.01209117, 0.00422857,\n",
       "        0.00717287, 0.00385705, 0.00801571, 0.00601171, 0.00376013,\n",
       "        0.00430356, 0.00764309, 0.00654727, 0.00442608, 0.00293379,\n",
       "        0.00502632, 0.00299141, 0.00384575, 0.00842361, 0.00649307,\n",
       "        0.00392402, 0.00259115, 0.00400109, 0.00495429, 0.00342441,\n",
       "        0.00236606, 0.00434655, 0.00423745, 0.0043692 , 0.00392516,\n",
       "        0.00442776, 0.00264936]),\n",
       " 'param_criterion': masked_array(data=['gini', 'gini', 'gini', 'gini', 'gini', 'gini', 'gini',\n",
       "                    'gini', 'gini', 'gini', 'gini', 'gini', 'gini', 'gini',\n",
       "                    'gini', 'gini', 'entropy', 'entropy', 'entropy',\n",
       "                    'entropy', 'entropy', 'entropy', 'entropy', 'entropy',\n",
       "                    'entropy', 'entropy', 'entropy', 'entropy', 'entropy',\n",
       "                    'entropy', 'entropy', 'entropy'],\n",
       "              mask=[False, False, False, False, False, False, False, False,\n",
       "                    False, False, False, False, False, False, False, False,\n",
       "                    False, False, False, False, False, False, False, False,\n",
       "                    False, False, False, False, False, False, False, False],\n",
       "        fill_value='?',\n",
       "             dtype=object),\n",
       " 'param_max_depth': masked_array(data=[4, 4, 4, 4, 6, 6, 6, 6, 8, 8, 8, 8, 10, 10, 10, 10, 4,\n",
       "                    4, 4, 4, 6, 6, 6, 6, 8, 8, 8, 8, 10, 10, 10, 10],\n",
       "              mask=[False, False, False, False, False, False, False, False,\n",
       "                    False, False, False, False, False, False, False, False,\n",
       "                    False, False, False, False, False, False, False, False,\n",
       "                    False, False, False, False, False, False, False, False],\n",
       "        fill_value='?',\n",
       "             dtype=object),\n",
       " 'param_n_estimators': masked_array(data=[100, 150, 200, 250, 100, 150, 200, 250, 100, 150, 200,\n",
       "                    250, 100, 150, 200, 250, 100, 150, 200, 250, 100, 150,\n",
       "                    200, 250, 100, 150, 200, 250, 100, 150, 200, 250],\n",
       "              mask=[False, False, False, False, False, False, False, False,\n",
       "                    False, False, False, False, False, False, False, False,\n",
       "                    False, False, False, False, False, False, False, False,\n",
       "                    False, False, False, False, False, False, False, False],\n",
       "        fill_value='?',\n",
       "             dtype=object),\n",
       " 'params': [{'criterion': 'gini', 'max_depth': 4, 'n_estimators': 100},\n",
       "  {'criterion': 'gini', 'max_depth': 4, 'n_estimators': 150},\n",
       "  {'criterion': 'gini', 'max_depth': 4, 'n_estimators': 200},\n",
       "  {'criterion': 'gini', 'max_depth': 4, 'n_estimators': 250},\n",
       "  {'criterion': 'gini', 'max_depth': 6, 'n_estimators': 100},\n",
       "  {'criterion': 'gini', 'max_depth': 6, 'n_estimators': 150},\n",
       "  {'criterion': 'gini', 'max_depth': 6, 'n_estimators': 200},\n",
       "  {'criterion': 'gini', 'max_depth': 6, 'n_estimators': 250},\n",
       "  {'criterion': 'gini', 'max_depth': 8, 'n_estimators': 100},\n",
       "  {'criterion': 'gini', 'max_depth': 8, 'n_estimators': 150},\n",
       "  {'criterion': 'gini', 'max_depth': 8, 'n_estimators': 200},\n",
       "  {'criterion': 'gini', 'max_depth': 8, 'n_estimators': 250},\n",
       "  {'criterion': 'gini', 'max_depth': 10, 'n_estimators': 100},\n",
       "  {'criterion': 'gini', 'max_depth': 10, 'n_estimators': 150},\n",
       "  {'criterion': 'gini', 'max_depth': 10, 'n_estimators': 200},\n",
       "  {'criterion': 'gini', 'max_depth': 10, 'n_estimators': 250},\n",
       "  {'criterion': 'entropy', 'max_depth': 4, 'n_estimators': 100},\n",
       "  {'criterion': 'entropy', 'max_depth': 4, 'n_estimators': 150},\n",
       "  {'criterion': 'entropy', 'max_depth': 4, 'n_estimators': 200},\n",
       "  {'criterion': 'entropy', 'max_depth': 4, 'n_estimators': 250},\n",
       "  {'criterion': 'entropy', 'max_depth': 6, 'n_estimators': 100},\n",
       "  {'criterion': 'entropy', 'max_depth': 6, 'n_estimators': 150},\n",
       "  {'criterion': 'entropy', 'max_depth': 6, 'n_estimators': 200},\n",
       "  {'criterion': 'entropy', 'max_depth': 6, 'n_estimators': 250},\n",
       "  {'criterion': 'entropy', 'max_depth': 8, 'n_estimators': 100},\n",
       "  {'criterion': 'entropy', 'max_depth': 8, 'n_estimators': 150},\n",
       "  {'criterion': 'entropy', 'max_depth': 8, 'n_estimators': 200},\n",
       "  {'criterion': 'entropy', 'max_depth': 8, 'n_estimators': 250},\n",
       "  {'criterion': 'entropy', 'max_depth': 10, 'n_estimators': 100},\n",
       "  {'criterion': 'entropy', 'max_depth': 10, 'n_estimators': 150},\n",
       "  {'criterion': 'entropy', 'max_depth': 10, 'n_estimators': 200},\n",
       "  {'criterion': 'entropy', 'max_depth': 10, 'n_estimators': 250}],\n",
       " 'split0_test_score': array([0.78333333, 0.78333333, 0.78333333, 0.78333333, 0.78333333,\n",
       "        0.78333333, 0.78333333, 0.78333333, 0.76666667, 0.76666667,\n",
       "        0.76666667, 0.76666667, 0.78333333, 0.75      , 0.78333333,\n",
       "        0.76666667, 0.78333333, 0.78333333, 0.78333333, 0.78333333,\n",
       "        0.78333333, 0.78333333, 0.78333333, 0.78333333, 0.76666667,\n",
       "        0.76666667, 0.78333333, 0.76666667, 0.78333333, 0.8       ,\n",
       "        0.76666667, 0.8       ]),\n",
       " 'split1_test_score': array([0.76666667, 0.76666667, 0.76666667, 0.76666667, 0.76666667,\n",
       "        0.76666667, 0.76666667, 0.76666667, 0.76666667, 0.76666667,\n",
       "        0.76666667, 0.76666667, 0.75      , 0.75      , 0.75      ,\n",
       "        0.73333333, 0.76666667, 0.76666667, 0.76666667, 0.76666667,\n",
       "        0.76666667, 0.76666667, 0.76666667, 0.76666667, 0.76666667,\n",
       "        0.76666667, 0.76666667, 0.76666667, 0.73333333, 0.75      ,\n",
       "        0.73333333, 0.75      ]),\n",
       " 'split2_test_score': array([0.71666667, 0.71666667, 0.71666667, 0.71666667, 0.71666667,\n",
       "        0.71666667, 0.71666667, 0.71666667, 0.7       , 0.7       ,\n",
       "        0.7       , 0.7       , 0.68333333, 0.68333333, 0.66666667,\n",
       "        0.68333333, 0.71666667, 0.71666667, 0.71666667, 0.71666667,\n",
       "        0.71666667, 0.71666667, 0.71666667, 0.71666667, 0.7       ,\n",
       "        0.7       , 0.7       , 0.7       , 0.68333333, 0.68333333,\n",
       "        0.66666667, 0.7       ]),\n",
       " 'split3_test_score': array([0.75      , 0.75      , 0.75      , 0.75      , 0.75      ,\n",
       "        0.75      , 0.75      , 0.75      , 0.73333333, 0.75      ,\n",
       "        0.73333333, 0.71666667, 0.68333333, 0.73333333, 0.7       ,\n",
       "        0.7       , 0.75      , 0.75      , 0.75      , 0.75      ,\n",
       "        0.75      , 0.75      , 0.75      , 0.75      , 0.75      ,\n",
       "        0.75      , 0.73333333, 0.75      , 0.68333333, 0.68333333,\n",
       "        0.7       , 0.68333333]),\n",
       " 'split4_test_score': array([0.81666667, 0.81666667, 0.81666667, 0.81666667, 0.8       ,\n",
       "        0.81666667, 0.81666667, 0.81666667, 0.76666667, 0.78333333,\n",
       "        0.8       , 0.78333333, 0.73333333, 0.75      , 0.76666667,\n",
       "        0.76666667, 0.81666667, 0.81666667, 0.81666667, 0.81666667,\n",
       "        0.81666667, 0.81666667, 0.81666667, 0.81666667, 0.8       ,\n",
       "        0.78333333, 0.8       , 0.81666667, 0.78333333, 0.76666667,\n",
       "        0.76666667, 0.76666667]),\n",
       " 'split5_test_score': array([0.71666667, 0.71666667, 0.71666667, 0.71666667, 0.71666667,\n",
       "        0.71666667, 0.71666667, 0.71666667, 0.7       , 0.7       ,\n",
       "        0.7       , 0.7       , 0.68333333, 0.65      , 0.68333333,\n",
       "        0.66666667, 0.71666667, 0.71666667, 0.71666667, 0.71666667,\n",
       "        0.71666667, 0.71666667, 0.71666667, 0.71666667, 0.71666667,\n",
       "        0.71666667, 0.71666667, 0.7       , 0.68333333, 0.68333333,\n",
       "        0.68333333, 0.68333333]),\n",
       " 'split6_test_score': array([0.9       , 0.9       , 0.9       , 0.9       , 0.9       ,\n",
       "        0.9       , 0.9       , 0.9       , 0.9       , 0.9       ,\n",
       "        0.88333333, 0.9       , 0.86666667, 0.86666667, 0.88333333,\n",
       "        0.86666667, 0.9       , 0.9       , 0.9       , 0.9       ,\n",
       "        0.9       , 0.9       , 0.9       , 0.9       , 0.9       ,\n",
       "        0.9       , 0.9       , 0.9       , 0.88333333, 0.88333333,\n",
       "        0.88333333, 0.88333333]),\n",
       " 'split7_test_score': array([0.75      , 0.75      , 0.75      , 0.75      , 0.75      ,\n",
       "        0.75      , 0.75      , 0.75      , 0.75      , 0.73333333,\n",
       "        0.75      , 0.75      , 0.73333333, 0.73333333, 0.73333333,\n",
       "        0.73333333, 0.75      , 0.75      , 0.75      , 0.75      ,\n",
       "        0.75      , 0.75      , 0.75      , 0.75      , 0.75      ,\n",
       "        0.75      , 0.75      , 0.75      , 0.71666667, 0.73333333,\n",
       "        0.73333333, 0.71666667]),\n",
       " 'split8_test_score': array([0.85      , 0.85      , 0.85      , 0.85      , 0.85      ,\n",
       "        0.85      , 0.85      , 0.85      , 0.81666667, 0.8       ,\n",
       "        0.81666667, 0.81666667, 0.76666667, 0.8       , 0.78333333,\n",
       "        0.8       , 0.85      , 0.85      , 0.85      , 0.85      ,\n",
       "        0.85      , 0.85      , 0.85      , 0.85      , 0.81666667,\n",
       "        0.81666667, 0.81666667, 0.81666667, 0.78333333, 0.8       ,\n",
       "        0.8       , 0.78333333]),\n",
       " 'split9_test_score': array([0.88333333, 0.88333333, 0.88333333, 0.88333333, 0.88333333,\n",
       "        0.88333333, 0.88333333, 0.88333333, 0.88333333, 0.88333333,\n",
       "        0.88333333, 0.85      , 0.83333333, 0.85      , 0.85      ,\n",
       "        0.85      , 0.88333333, 0.88333333, 0.88333333, 0.88333333,\n",
       "        0.88333333, 0.88333333, 0.88333333, 0.88333333, 0.88333333,\n",
       "        0.88333333, 0.86666667, 0.88333333, 0.83333333, 0.83333333,\n",
       "        0.83333333, 0.85      ]),\n",
       " 'mean_test_score': array([0.79333333, 0.79333333, 0.79333333, 0.79333333, 0.79166667,\n",
       "        0.79333333, 0.79333333, 0.79333333, 0.77833333, 0.77833333,\n",
       "        0.78      , 0.775     , 0.75166667, 0.75666667, 0.76      ,\n",
       "        0.75666667, 0.79333333, 0.79333333, 0.79333333, 0.79333333,\n",
       "        0.79333333, 0.79333333, 0.79333333, 0.79333333, 0.785     ,\n",
       "        0.78333333, 0.78333333, 0.785     , 0.75666667, 0.76166667,\n",
       "        0.75666667, 0.76166667]),\n",
       " 'std_test_score': array([0.06289321, 0.06289321, 0.06289321, 0.06289321, 0.06247222,\n",
       "        0.06289321, 0.06289321, 0.06289321, 0.06542595, 0.06457124,\n",
       "        0.06271629, 0.06202598, 0.05983774, 0.06377042, 0.0659124 ,\n",
       "        0.06377042, 0.06289321, 0.06289321, 0.06289321, 0.06289321,\n",
       "        0.06289321, 0.06289321, 0.06289321, 0.06289321, 0.06256108,\n",
       "        0.06236096, 0.06101002, 0.06517072, 0.06506407, 0.065     ,\n",
       "        0.06463573, 0.06542595]),\n",
       " 'rank_test_score': array([ 1,  1,  1,  1, 16,  1,  1,  1, 22, 22, 21, 24, 32, 28, 27, 28,  1,\n",
       "         1,  1,  1,  1,  1,  1,  1, 17, 20, 19, 17, 28, 25, 28, 25])}"
      ]
     },
     "execution_count": 48,
     "metadata": {},
     "output_type": "execute_result"
    }
   ],
   "source": [
    "result.cv_results_"
   ]
  },
  {
   "cell_type": "code",
   "execution_count": 49,
   "id": "be9c9e07",
   "metadata": {},
   "outputs": [],
   "source": [
    "means=result.cv_results_[\"mean_test_score\"]\n",
    "stds=result.cv_results_[\"std_test_score\"]\n",
    "params=result.cv_results_[\"params\"]"
   ]
  },
  {
   "cell_type": "code",
   "execution_count": 50,
   "id": "c08ffe32",
   "metadata": {},
   "outputs": [
    {
     "name": "stdout",
     "output_type": "stream",
     "text": [
      "0.7933333333333332,0.06289320754704403 with: {'criterion': 'gini', 'max_depth': 4, 'n_estimators': 100}\n",
      "0.7933333333333332,0.06289320754704403 with: {'criterion': 'gini', 'max_depth': 4, 'n_estimators': 150}\n",
      "0.7933333333333332,0.06289320754704403 with: {'criterion': 'gini', 'max_depth': 4, 'n_estimators': 200}\n",
      "0.7933333333333332,0.06289320754704403 with: {'criterion': 'gini', 'max_depth': 4, 'n_estimators': 250}\n",
      "0.7916666666666666,0.062472216046637705 with: {'criterion': 'gini', 'max_depth': 6, 'n_estimators': 100}\n",
      "0.7933333333333332,0.06289320754704403 with: {'criterion': 'gini', 'max_depth': 6, 'n_estimators': 150}\n",
      "0.7933333333333332,0.06289320754704403 with: {'criterion': 'gini', 'max_depth': 6, 'n_estimators': 200}\n",
      "0.7933333333333332,0.06289320754704403 with: {'criterion': 'gini', 'max_depth': 6, 'n_estimators': 250}\n",
      "0.7783333333333333,0.06542595475463509 with: {'criterion': 'gini', 'max_depth': 8, 'n_estimators': 100}\n",
      "0.7783333333333333,0.06457123542603507 with: {'criterion': 'gini', 'max_depth': 8, 'n_estimators': 150}\n",
      "0.7799999999999999,0.0627162924074226 with: {'criterion': 'gini', 'max_depth': 8, 'n_estimators': 200}\n",
      "0.775,0.06202598021976132 with: {'criterion': 'gini', 'max_depth': 8, 'n_estimators': 250}\n",
      "0.7516666666666666,0.05983774357005415 with: {'criterion': 'gini', 'max_depth': 10, 'n_estimators': 100}\n",
      "0.7566666666666666,0.06377042156569664 with: {'criterion': 'gini', 'max_depth': 10, 'n_estimators': 150}\n",
      "0.76,0.06591239977761729 with: {'criterion': 'gini', 'max_depth': 10, 'n_estimators': 200}\n",
      "0.7566666666666666,0.06377042156569665 with: {'criterion': 'gini', 'max_depth': 10, 'n_estimators': 250}\n",
      "0.7933333333333332,0.06289320754704403 with: {'criterion': 'entropy', 'max_depth': 4, 'n_estimators': 100}\n",
      "0.7933333333333332,0.06289320754704403 with: {'criterion': 'entropy', 'max_depth': 4, 'n_estimators': 150}\n",
      "0.7933333333333332,0.06289320754704403 with: {'criterion': 'entropy', 'max_depth': 4, 'n_estimators': 200}\n",
      "0.7933333333333332,0.06289320754704403 with: {'criterion': 'entropy', 'max_depth': 4, 'n_estimators': 250}\n",
      "0.7933333333333332,0.06289320754704403 with: {'criterion': 'entropy', 'max_depth': 6, 'n_estimators': 100}\n",
      "0.7933333333333332,0.06289320754704403 with: {'criterion': 'entropy', 'max_depth': 6, 'n_estimators': 150}\n",
      "0.7933333333333332,0.06289320754704403 with: {'criterion': 'entropy', 'max_depth': 6, 'n_estimators': 200}\n",
      "0.7933333333333332,0.06289320754704403 with: {'criterion': 'entropy', 'max_depth': 6, 'n_estimators': 250}\n",
      "0.7849999999999999,0.06256108126374486 with: {'criterion': 'entropy', 'max_depth': 8, 'n_estimators': 100}\n",
      "0.7833333333333332,0.06236095644623235 with: {'criterion': 'entropy', 'max_depth': 8, 'n_estimators': 150}\n",
      "0.7833333333333334,0.061010017392410444 with: {'criterion': 'entropy', 'max_depth': 8, 'n_estimators': 200}\n",
      "0.7849999999999999,0.06517071598672385 with: {'criterion': 'entropy', 'max_depth': 8, 'n_estimators': 250}\n",
      "0.7566666666666666,0.06506407098647711 with: {'criterion': 'entropy', 'max_depth': 10, 'n_estimators': 100}\n",
      "0.7616666666666667,0.06500000000000002 with: {'criterion': 'entropy', 'max_depth': 10, 'n_estimators': 150}\n",
      "0.7566666666666666,0.06463573143221774 with: {'criterion': 'entropy', 'max_depth': 10, 'n_estimators': 200}\n",
      "0.7616666666666667,0.06542595475463506 with: {'criterion': 'entropy', 'max_depth': 10, 'n_estimators': 250}\n"
     ]
    }
   ],
   "source": [
    "for mean, stdev, param in zip(means, stds, params):\n",
    "  print('{},{} with: {}'.format(mean, stdev, param))"
   ]
  },
  {
   "cell_type": "markdown",
   "id": "a0cb8a23",
   "metadata": {},
   "source": [
    "## Final model"
   ]
  },
  {
   "cell_type": "code",
   "execution_count": 51,
   "id": "8213d2a8",
   "metadata": {},
   "outputs": [
    {
     "data": {
      "text/plain": [
       "RandomForestClassifier(max_depth=4)"
      ]
     },
     "execution_count": 51,
     "metadata": {},
     "output_type": "execute_result"
    }
   ],
   "source": [
    "fold1=KFold(n_splits=10,shuffle=False)\n",
    "final_model=RandomForestClassifier(criterion= 'gini', max_depth=4, n_estimators=100)\n",
    "final_model.fit(x_train,y_train)"
   ]
  },
  {
   "cell_type": "code",
   "execution_count": 52,
   "id": "83dfdeec",
   "metadata": {},
   "outputs": [],
   "source": [
    "#Now predict the test set\n",
    "y_pred_rf_test1=final_model.predict(x_test)\n",
    "#Predicting the train set\n",
    "y_pred_rf_train1=final_model.predict(x_train)\n"
   ]
  },
  {
   "cell_type": "code",
   "execution_count": 53,
   "id": "c6039253",
   "metadata": {},
   "outputs": [
    {
     "name": "stdout",
     "output_type": "stream",
     "text": [
      "This is the final accuracy of training dataset when applying hyperparameter tuning  0.7917\n"
     ]
    }
   ],
   "source": [
    "print(\"This is the final accuracy of training dataset when applying hyperparameter tuning \", np.round(accuracy_score(y_test,y_pred_rf_test1),decimals=4))#Testing accuracy\n"
   ]
  },
  {
   "cell_type": "code",
   "execution_count": 54,
   "id": "63ff8fd4",
   "metadata": {},
   "outputs": [
    {
     "name": "stdout",
     "output_type": "stream",
     "text": [
      "This is the final accuracy of testing dataset when applying hyperparameter tuning  0.7938\n"
     ]
    }
   ],
   "source": [
    "print(\"This is the final accuracy of testing dataset when applying hyperparameter tuning \", np.round(accuracy_score(y_train,y_pred_rf_train1),decimals=4))#training accuracy\n"
   ]
  },
  {
   "cell_type": "code",
   "execution_count": 55,
   "id": "febb9b60",
   "metadata": {},
   "outputs": [
    {
     "data": {
      "text/plain": [
       "array([[ 0, 25],\n",
       "       [ 0, 95]], dtype=int64)"
      ]
     },
     "execution_count": 55,
     "metadata": {},
     "output_type": "execute_result"
    }
   ],
   "source": [
    "confusion_matrix(y_test,y_pred_rf_test1)"
   ]
  },
  {
   "cell_type": "code",
   "execution_count": null,
   "id": "82e5d9f2",
   "metadata": {},
   "outputs": [],
   "source": []
  }
 ],
 "metadata": {
  "kernelspec": {
   "display_name": "Python 3 (ipykernel)",
   "language": "python",
   "name": "python3"
  },
  "language_info": {
   "codemirror_mode": {
    "name": "ipython",
    "version": 3
   },
   "file_extension": ".py",
   "mimetype": "text/x-python",
   "name": "python",
   "nbconvert_exporter": "python",
   "pygments_lexer": "ipython3",
   "version": "3.9.12"
  }
 },
 "nbformat": 4,
 "nbformat_minor": 5
}
